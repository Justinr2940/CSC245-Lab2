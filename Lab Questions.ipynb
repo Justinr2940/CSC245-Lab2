{
 "cells": [
  {
   "cell_type": "code",
   "outputs": [],
   "source": [
    "import pandas as pd"
   ],
   "metadata": {
    "collapsed": false,
    "ExecuteTime": {
     "end_time": "2024-03-05T01:19:42.688168900Z",
     "start_time": "2024-03-05T01:19:42.270481500Z"
    }
   },
   "id": "f07012bb01c9deaa",
   "execution_count": 57
  },
  {
   "cell_type": "markdown",
   "source": [
    "1. Write a Pandas program to create and display a one-dimensional array-like object containing an array of data using Pandas module.\n"
   ],
   "metadata": {
    "collapsed": false
   },
   "id": "e3027ee02701bc0f"
  },
  {
   "cell_type": "code",
   "outputs": [
    {
     "name": "stdout",
     "output_type": "stream",
     "text": [
      "<IntegerArray>\n",
      "[2, 4, 5, 6]\n",
      "Length: 4, dtype: Int64\n"
     ]
    }
   ],
   "source": [
    "df = [2,4,5,6]\n",
    "arr= pd.array(df)\n",
    "print(arr)"
   ],
   "metadata": {
    "collapsed": false,
    "ExecuteTime": {
     "end_time": "2024-03-05T01:19:42.729374100Z",
     "start_time": "2024-03-05T01:19:42.671543600Z"
    }
   },
   "id": "e10fed635ec5fff0",
   "execution_count": 58
  },
  {
   "cell_type": "markdown",
   "source": [
    "2. Write a Pandas program to convert a Panda module Series to Python list and it's type"
   ],
   "metadata": {
    "collapsed": false
   },
   "id": "cfd84a772285b62b"
  },
  {
   "cell_type": "code",
   "outputs": [
    {
     "name": "stdout",
     "output_type": "stream",
     "text": [
      "[1, 2, 3, 4, 5]\n"
     ]
    }
   ],
   "source": [
    "df = pd.Series([1,2,3,4,5])\n",
    "list_data = df.tolist()\n",
    "print(list_data)\n"
   ],
   "metadata": {
    "collapsed": false,
    "ExecuteTime": {
     "end_time": "2024-03-05T01:19:42.761906900Z",
     "start_time": "2024-03-05T01:19:42.738920300Z"
    }
   },
   "id": "f9805995b544fcbb",
   "execution_count": 59
  },
  {
   "cell_type": "markdown",
   "source": [
    "3. Write a Pandas program to add, subtract, multiple and divide two Pandas Series.\n",
    "Sample Series: [2, 4, 6, 8, 10], [1, 3, 5, 7, 9]"
   ],
   "metadata": {
    "collapsed": false
   },
   "id": "cc38f51111c3edb1"
  },
  {
   "cell_type": "code",
   "outputs": [
    {
     "name": "stdout",
     "output_type": "stream",
     "text": [
      "Addition:\n",
      "0     3\n",
      "1     7\n",
      "2    11\n",
      "3    15\n",
      "4    19\n",
      "dtype: int64\n",
      "\n",
      "Subtraction:\n",
      "0    1\n",
      "1    1\n",
      "2    1\n",
      "3    1\n",
      "4    1\n",
      "dtype: int64\n",
      "\n",
      "Multiplication:\n",
      "0     2\n",
      "1    12\n",
      "2    30\n",
      "3    56\n",
      "4    90\n",
      "dtype: int64\n",
      "\n",
      "Division:\n",
      "0    2.000000\n",
      "1    1.333333\n",
      "2    1.200000\n",
      "3    1.142857\n",
      "4    1.111111\n",
      "dtype: float64\n"
     ]
    }
   ],
   "source": [
    "s1 = pd.Series([2, 4, 6, 8, 10])\n",
    "s2 = pd.Series([1, 3, 5, 7, 9])\n",
    "add = s1+s2\n",
    "sub = s1-s2\n",
    "mul = s1*s2\n",
    "div = s1/s2\n",
    "\n",
    "print(\"Addition:\")\n",
    "print(add)\n",
    "print(\"\\nSubtraction:\")\n",
    "print(sub)\n",
    "print(\"\\nMultiplication:\")\n",
    "print(mul)\n",
    "print(\"\\nDivision:\")\n",
    "print(div)\n"
   ],
   "metadata": {
    "collapsed": false,
    "ExecuteTime": {
     "end_time": "2024-03-05T01:19:42.890657800Z",
     "start_time": "2024-03-05T01:19:42.772786500Z"
    }
   },
   "id": "227b8f405af631f9",
   "execution_count": 60
  },
  {
   "cell_type": "markdown",
   "source": [
    "4. Write a Pandas program to compare the elements of the two Pandas Series.\n",
    "Sample Series: [2, 4, 6, 8, 10], [1, 3, 5, 7, 10]"
   ],
   "metadata": {
    "collapsed": false
   },
   "id": "5f25cc23e3322f4a"
  },
  {
   "cell_type": "code",
   "outputs": [
    {
     "name": "stdout",
     "output_type": "stream",
     "text": [
      "Comparison Result:\n",
      "0    False\n",
      "1    False\n",
      "2    False\n",
      "3    False\n",
      "4     True\n",
      "dtype: bool\n"
     ]
    }
   ],
   "source": [
    "s1 = pd.Series([2, 4, 6, 8, 10])\n",
    "s2 = pd.Series([1, 3, 5, 7, 10])\n",
    "\n",
    "comparison = s1 == s2\n",
    "\n",
    "print(\"Comparison Result:\")\n",
    "print(comparison)"
   ],
   "metadata": {
    "collapsed": false,
    "ExecuteTime": {
     "end_time": "2024-03-05T01:19:43.036679500Z",
     "start_time": "2024-03-05T01:19:42.871890800Z"
    }
   },
   "id": "c9ed82c460fdb658",
   "execution_count": 61
  },
  {
   "cell_type": "markdown",
   "source": [
    "5. Write a Pandas program to convert a dictionary to a Pandas series. \n",
    "\n",
    "Sample Series: \n",
    "\n",
    "Original dictionary:\n",
    "\n",
    "{'a': 100, 'b': 200, 'c': 300, 'd': 400, 'e': 800}\n",
    "\n",
    "\n",
    "\n",
    "Converted series:\n",
    "\n",
    "a    100\n",
    "\n",
    "b    200\n",
    "\n",
    "c    300\n",
    "\n",
    "d    400\n",
    "\n",
    "e    800\n",
    "\n",
    "dtype: int64"
   ],
   "metadata": {
    "collapsed": false
   },
   "id": "a737c1601882b5f0"
  },
  {
   "cell_type": "code",
   "outputs": [
    {
     "name": "stdout",
     "output_type": "stream",
     "text": [
      "Converted Series:\n",
      "a    100\n",
      "b    200\n",
      "c    300\n",
      "d    400\n",
      "e    800\n",
      "dtype: int64\n"
     ]
    }
   ],
   "source": [
    "dict = {'a': 100, 'b': 200, 'c': 300, 'd': 400, 'e': 800}\n",
    "converted_series = pd.Series(dict)\n",
    "print(\"Converted Series:\")\n",
    "print(converted_series)"
   ],
   "metadata": {
    "collapsed": false,
    "ExecuteTime": {
     "end_time": "2024-03-05T01:19:43.126787700Z",
     "start_time": "2024-03-05T01:19:42.976786500Z"
    }
   },
   "id": "a7d8def8aa9a4e65",
   "execution_count": 62
  },
  {
   "cell_type": "markdown",
   "source": [
    "6. Write a Pandas program to convert a NumPy array to a Pandas series. \n",
    "\n",
    "Sample Series: \n",
    "\n",
    "  NumPy array:\n",
    "\n",
    "[10 20 30 40 50]\n",
    "\n",
    "Converted Pandas series:\n",
    "\n",
    "0    10\n",
    "\n",
    "1    20\n",
    "\n",
    "2    30\n",
    "\n",
    "3    40\n",
    "\n",
    "4    50\n",
    "\n",
    "dtype: int64 "
   ],
   "metadata": {
    "collapsed": false
   },
   "id": "7fbb942125644c8b"
  },
  {
   "cell_type": "code",
   "outputs": [
    {
     "name": "stdout",
     "output_type": "stream",
     "text": [
      "Converted Series:\n",
      "0    10\n",
      "1    20\n",
      "2    30\n",
      "3    40\n",
      "4    50\n",
      "dtype: int32\n"
     ]
    }
   ],
   "source": [
    "import numpy as np\n",
    "numpy_array = np.array([10, 20, 30, 40, 50])\n",
    "converted_series = pd.Series(numpy_array)\n",
    "print(\"Converted Series:\")\n",
    "print(converted_series)"
   ],
   "metadata": {
    "collapsed": false,
    "ExecuteTime": {
     "end_time": "2024-03-05T01:19:43.236185200Z",
     "start_time": "2024-03-05T01:19:43.093388700Z"
    }
   },
   "id": "4a33dff5010e29c7",
   "execution_count": 63
  },
  {
   "cell_type": "markdown",
   "source": [
    "7. Write a Pandas program to change the data type of given a column or a Series. \n",
    "\n",
    "Sample Series: \n",
    "\n",
    "    Original Data Series:\n",
    "\n",
    "0       100\n",
    "\n",
    "1       200\n",
    "\n",
    "2    python\n",
    "\n",
    "3    300.12\n",
    "\n",
    "4       400\n",
    "\n",
    "dtype: object\n",
    "\n",
    "Change the said data type to numeric:\n",
    "\n",
    "0    100.00\n",
    "\n",
    "1    200.00\n",
    "\n",
    "2       NaN\n",
    "\n",
    "3    300.12\n",
    "\n",
    "4    400.00\n",
    "\n",
    "dtype: float64"
   ],
   "metadata": {
    "collapsed": false
   },
   "id": "d68e08abbb3454bc"
  },
  {
   "cell_type": "code",
   "outputs": [
    {
     "name": "stdout",
     "output_type": "stream",
     "text": [
      "Converted Series:\n",
      "0    100.00\n",
      "1    200.00\n",
      "2       NaN\n",
      "3    300.12\n",
      "4    400.00\n",
      "dtype: float64\n"
     ]
    }
   ],
   "source": [
    "original_series = pd.Series(['100', '200', 'python', '300.12', '400'])\n",
    "converted_series = pd.to_numeric(original_series, errors='coerce')\n",
    "print(\"Converted Series:\")\n",
    "print(converted_series)"
   ],
   "metadata": {
    "collapsed": false,
    "ExecuteTime": {
     "end_time": "2024-03-05T01:19:43.340417100Z",
     "start_time": "2024-03-05T01:19:43.247132100Z"
    }
   },
   "id": "b51e3afe9a1590d",
   "execution_count": 64
  },
  {
   "cell_type": "markdown",
   "source": [
    "8. Write a Pandas program to convert the first column of a DataFrame as a Series. \n",
    "\n",
    "Original DataFrame\n",
    "\n",
    "   col1  col2  col3\n",
    "\n",
    "0     1     4     7\n",
    "\n",
    "1     2     5     5\n",
    "\n",
    "2     3     6     8\n",
    "\n",
    "3     4     9    12\n",
    "\n",
    "4     7     5     1\n",
    "\n",
    "5    11     0    11\n",
    "\n",
    "\n",
    "\n",
    "1st column as a Series:\n",
    "\n",
    "0     1\n",
    "\n",
    "1     2\n",
    "\n",
    "2     3\n",
    "\n",
    "3     4\n",
    "\n",
    "4     7\n",
    "\n",
    "5    11\n",
    "\n",
    "Name: col1, dtype: int64\n",
    "\n",
    "<class 'pandas.core.series.Series'>"
   ],
   "metadata": {
    "collapsed": false
   },
   "id": "a81d0bca68c7460d"
  },
  {
   "cell_type": "code",
   "outputs": [
    {
     "name": "stdout",
     "output_type": "stream",
     "text": [
      "   col1  col2  col3\n",
      "0     1     4     7\n",
      "1     2     5     5\n",
      "2     3     6     8\n",
      "3     4     9    12\n",
      "4     7     5     1\n",
      "5    11     0    11\n",
      "-----------------------------------------\n",
      "1st column as a Series:\n",
      "0     1\n",
      "1     2\n",
      "2     3\n",
      "3     4\n",
      "4     7\n",
      "5    11\n",
      "Name: col1, dtype: int64\n"
     ]
    }
   ],
   "source": [
    "data = {\n",
    "    'col1': [1, 2, 3, 4, 7, 11],\n",
    "    'col2': [4, 5, 6, 9, 5, 0],\n",
    "    'col3': [7, 5, 8, 12, 1, 11]\n",
    "}\n",
    "df = pd.DataFrame(data)\n",
    "\n",
    "fseries = df['col1']\n",
    "\n",
    "print(df)\n",
    "print('-----------------------------------------')\n",
    "print(\"1st column as a Series:\")\n",
    "print(fseries)"
   ],
   "metadata": {
    "collapsed": false,
    "ExecuteTime": {
     "end_time": "2024-03-05T01:19:43.407958700Z",
     "start_time": "2024-03-05T01:19:43.304903900Z"
    }
   },
   "id": "b55a35d7d74d5dc1",
   "execution_count": 65
  },
  {
   "cell_type": "markdown",
   "source": [
    "9. Write a Pandas program to convert a given Series to an array. \n",
    "\n",
    "Sample Output: \n",
    "\n",
    "Original Data Series:\n",
    "\n",
    "0       100\n",
    "\n",
    "1       200\n",
    "\n",
    "2    python\n",
    "\n",
    "3    300.12\n",
    "\n",
    "4       400\n",
    "\n",
    "dtype: object\n",
    "\n",
    "Series to an array\n",
    "\n",
    "['100' '200' 'python' '300.12' '400']\n",
    "\n",
    "<class 'numpy.ndarray'>\n",
    "\n"
   ],
   "metadata": {
    "collapsed": false
   },
   "id": "2bf4e63db9c82194"
  },
  {
   "cell_type": "code",
   "outputs": [
    {
     "name": "stdout",
     "output_type": "stream",
     "text": [
      "Original Data Series:\n",
      "0       100\n",
      "1       200\n",
      "2    python\n",
      "3    300.12\n",
      "4       400\n",
      "dtype: object\n",
      "\n",
      "Series to an array:\n",
      "['100' '200' 'python' '300.12' '400']\n"
     ]
    }
   ],
   "source": [
    "original_series = pd.Series(['100', '200', 'python', '300.12', '400'])\n",
    "\n",
    "array_series = original_series.values\n",
    "\n",
    "print(\"Original Data Series:\")\n",
    "print(original_series)\n",
    "\n",
    "print(\"\\nSeries to an array:\")\n",
    "print(array_series)"
   ],
   "metadata": {
    "collapsed": false,
    "ExecuteTime": {
     "end_time": "2024-03-05T01:19:43.526157600Z",
     "start_time": "2024-03-05T01:19:43.352935700Z"
    }
   },
   "id": "68e628f6f9102523",
   "execution_count": 66
  },
  {
   "cell_type": "markdown",
   "source": [
    "1.Write a Pandas program to create a dataframe from a dictionary and display it.\n",
    "Sample data: {'X':[78,85,96,80,86], 'Y':[84,94,89,83,86],'Z':[86,97,96,72,83]}\n",
    "\n",
    "Expected Output:\n",
    "\n",
    "    X   Y   Z                                                         \n",
    "\n",
    "0  78  84  86                                                        \n",
    "\n",
    "1  85  94  97                                                         \n",
    "\n",
    "2  96  89  96                                                      \n",
    "\n",
    "3  80  83  72                                                         \n",
    "\n",
    "4  86  86  83 "
   ],
   "metadata": {
    "collapsed": false
   },
   "id": "ce1234c14f4aa1a9"
  },
  {
   "cell_type": "code",
   "outputs": [
    {
     "name": "stdout",
     "output_type": "stream",
     "text": [
      "    X   Y   Z\n",
      "0  78  84  86\n",
      "1  85  94  97\n",
      "2  96  89  96\n",
      "3  80  83  72\n",
      "4  86  86  83\n"
     ]
    }
   ],
   "source": [
    "data = {'X': [78, 85, 96, 80, 86], 'Y': [84, 94, 89, 83, 86], 'Z': [86, 97, 96, 72, 83]}\n",
    "\n",
    "df = pd.DataFrame(data)\n",
    "\n",
    "print(df)"
   ],
   "metadata": {
    "collapsed": false,
    "ExecuteTime": {
     "end_time": "2024-03-05T01:19:43.649342500Z",
     "start_time": "2024-03-05T01:19:43.514205400Z"
    }
   },
   "id": "dd8b88dfedd0ff97",
   "execution_count": 67
  },
  {
   "cell_type": "markdown",
   "source": [
    "2. Write a Pandas program to create and display a DataFrame from a specified dictionary data which has the index labels.\n",
    "Sample Python dictionary data and list labels:\n",
    "exam_data = {'name': ['Anastasia', 'Dima', 'Katherine', 'James', 'Emily', 'Michael', 'Matthew', 'Laura', 'Kevin', 'Jonas'],\n",
    "'score': [12.5, 9, 16.5, np.nan, 9, 20, 14.5, np.nan, 8, 19],\n",
    "'attempts': [1, 3, 2, 3, 2, 3, 1, 1, 2, 1],\n",
    "'qualify': ['yes', 'no', 'yes', 'no', 'no', 'yes', 'yes', 'no', 'no', 'yes']}\n",
    "labels = ['a', 'b', 'c', 'd', 'e', 'f', 'g', 'h', 'i', 'j']\n",
    "\n",
    "Expected Output:\n",
    "\n",
    "   attempts       name qualify  score                              \n",
    "\n",
    "a         1  Anastasia     yes   12.5                                 \n",
    "\n",
    "b         3       Dima      no    9.0                                 \n",
    "\n",
    "....                              \n",
    "\n",
    "i         2      Kevin      no    8.0                                \n",
    "\n",
    "j         1      Jonas     yes   19.0"
   ],
   "metadata": {
    "collapsed": false
   },
   "id": "ba0fdbd84502f8e"
  },
  {
   "cell_type": "code",
   "outputs": [
    {
     "name": "stdout",
     "output_type": "stream",
     "text": [
      "        name  score  attempts qualify\n",
      "a  Anastasia   12.5         1     yes\n",
      "b       Dima    9.0         3      no\n",
      "c  Katherine   16.5         2     yes\n",
      "d      James    NaN         3      no\n",
      "e      Emily    9.0         2      no\n",
      "f    Michael   20.0         3     yes\n",
      "g    Matthew   14.5         1     yes\n",
      "h      Laura    NaN         1      no\n",
      "i      Kevin    8.0         2      no\n",
      "j      Jonas   19.0         1     yes\n"
     ]
    }
   ],
   "source": [
    "exam_data = {\n",
    "    'name': ['Anastasia', 'Dima', 'Katherine', 'James', 'Emily', 'Michael', 'Matthew', 'Laura', 'Kevin', 'Jonas'],\n",
    "    'score': [12.5, 9, 16.5, np.nan, 9, 20, 14.5, np.nan, 8, 19],\n",
    "    'attempts': [1, 3, 2, 3, 2, 3, 1, 1, 2, 1],\n",
    "    'qualify': ['yes', 'no', 'yes', 'no', 'no', 'yes', 'yes', 'no', 'no', 'yes']\n",
    "}\n",
    "labels = ['a', 'b', 'c', 'd', 'e', 'f', 'g', 'h', 'i', 'j']\n",
    "\n",
    "\n",
    "df = pd.DataFrame(exam_data, index=labels)\n",
    "\n",
    "print(df)"
   ],
   "metadata": {
    "collapsed": false,
    "ExecuteTime": {
     "end_time": "2024-03-05T01:19:43.683431700Z",
     "start_time": "2024-03-05T01:19:43.609479200Z"
    }
   },
   "id": "8343e8072986bcf0",
   "execution_count": 68
  },
  {
   "cell_type": "markdown",
   "source": [
    "3. Write a Pandas program to display a summary of the basic information about a specified DataFrame and its data.\n",
    "Sample Python dictionary data and list labels:\n",
    "exam_data = {'name': ['Anastasia', 'Dima', 'Katherine', 'James', 'Emily', 'Michael', 'Matthew', 'Laura', 'Kevin', 'Jonas'],\n",
    "'score': [12.5, 9, 16.5, np.nan, 9, 20, 14.5, np.nan, 8, 19],\n",
    "'attempts': [1, 3, 2, 3, 2, 3, 1, 1, 2, 1],\n",
    "'qualify': ['yes', 'no', 'yes', 'no', 'no', 'yes', 'yes', 'no', 'no', 'yes']}\n",
    "labels = ['a', 'b', 'c', 'd', 'e', 'f', 'g', 'h', 'i', 'j']\n",
    "\n",
    "Expected Output:\n",
    "\n",
    "  Summary of the basic information about this DataFrame and its data:\n",
    "\n",
    "<class 'pandas.core.frame.DataFrame'>\n",
    "\n",
    "Index: 10 entries, a to j\n",
    "\n",
    "Data columns (total 4 columns):\n",
    "\n",
    "....\n",
    "\n",
    "dtypes: float64(1), int64(1), object(2)\n",
    "\n",
    "memory usage: 400.0+ bytes\n",
    "\n",
    "None \n",
    "\n"
   ],
   "metadata": {
    "collapsed": false
   },
   "id": "d926326b07140fe4"
  },
  {
   "cell_type": "code",
   "outputs": [
    {
     "name": "stdout",
     "output_type": "stream",
     "text": [
      "Summary of the basic information about this DataFrame and its data:\n",
      "\n",
      "<class 'pandas.core.frame.DataFrame'>\n",
      "Index: 10 entries, a to j\n",
      "Data columns (total 4 columns):\n",
      " #   Column    Non-Null Count  Dtype  \n",
      "---  ------    --------------  -----  \n",
      " 0   name      10 non-null     object \n",
      " 1   score     8 non-null      float64\n",
      " 2   attempts  10 non-null     int64  \n",
      " 3   qualify   10 non-null     object \n",
      "dtypes: float64(1), int64(1), object(2)\n",
      "memory usage: 400.0+ bytes\n",
      "None\n"
     ]
    }
   ],
   "source": [
    "exam_data = {\n",
    "    'name': ['Anastasia', 'Dima', 'Katherine', 'James', 'Emily', 'Michael', 'Matthew', 'Laura', 'Kevin', 'Jonas'],\n",
    "    'score': [12.5, 9, 16.5, np.nan, 9, 20, 14.5, np.nan, 8, 19],\n",
    "    'attempts': [1, 3, 2, 3, 2, 3, 1, 1, 2, 1],\n",
    "    'qualify': ['yes', 'no', 'yes', 'no', 'no', 'yes', 'yes', 'no', 'no', 'yes']\n",
    "}\n",
    "labels = ['a', 'b', 'c', 'd', 'e', 'f', 'g', 'h', 'i', 'j']\n",
    "df = pd.DataFrame(exam_data, index=labels)\n",
    "print(\"Summary of the basic information about this DataFrame and its data:\\n\")\n",
    "print(df.info())"
   ],
   "metadata": {
    "collapsed": false,
    "ExecuteTime": {
     "end_time": "2024-03-05T01:19:43.857005600Z",
     "start_time": "2024-03-05T01:19:43.714649700Z"
    }
   },
   "id": "a717ad061fef49c1",
   "execution_count": 69
  },
  {
   "cell_type": "markdown",
   "source": [
    "4. Write a Pandas program to get the first 3 rows of a given DataFrame.\n",
    "Sample Python dictionary data and list labels:\n",
    "exam_data = {'name': ['Anastasia', 'Dima', 'Katherine', 'James', 'Emily', 'Michael', 'Matthew', 'Laura', 'Kevin', 'Jonas'],\n",
    "'score': [12.5, 9, 16.5, np.nan, 9, 20, 14.5, np.nan, 8, 19],\n",
    "'attempts': [1, 3, 2, 3, 2, 3, 1, 1, 2, 1],\n",
    "'qualify': ['yes', 'no', 'yes', 'no', 'no', 'yes', 'yes', 'no', 'no', 'yes']}\n",
    "labels = ['a', 'b', 'c', 'd', 'e', 'f', 'g', 'h', 'i', 'j']\n",
    "\n",
    "Expected Output:\n",
    "\n",
    "First three rows of the data frame:                                   \n",
    "\n",
    "   attempts       name qualify  score                              \n",
    "\n",
    "a         1  Anastasia     yes   12.5                                 \n",
    "\n",
    "b         3       Dima      no    9.0                                 \n",
    "\n",
    "c         2  Katherine     yes   16.5"
   ],
   "metadata": {
    "collapsed": false
   },
   "id": "f6356e75236dadfa"
  },
  {
   "cell_type": "code",
   "outputs": [
    {
     "name": "stdout",
     "output_type": "stream",
     "text": [
      "First three rows of the data frame:\n",
      "\n",
      "        name  score  attempts qualify\n",
      "a  Anastasia   12.5         1     yes\n",
      "b       Dima    9.0         3      no\n",
      "c  Katherine   16.5         2     yes\n"
     ]
    }
   ],
   "source": [
    "exam_data = {\n",
    "    'name': ['Anastasia', 'Dima', 'Katherine', 'James', 'Emily', 'Michael', 'Matthew', 'Laura', 'Kevin', 'Jonas'],\n",
    "    'score': [12.5, 9, 16.5, np.nan, 9, 20, 14.5, np.nan, 8, 19],\n",
    "    'attempts': [1, 3, 2, 3, 2, 3, 1, 1, 2, 1],\n",
    "    'qualify': ['yes', 'no', 'yes', 'no', 'no', 'yes', 'yes', 'no', 'no', 'yes']\n",
    "}\n",
    "labels = ['a', 'b', 'c', 'd', 'e', 'f', 'g', 'h', 'i', 'j']\n",
    "\n",
    "df = pd.DataFrame(exam_data, index=labels)\n",
    "\n",
    "first_three_rows = df.head(3)\n",
    "\n",
    "print(\"First three rows of the data frame:\\n\")\n",
    "print(first_three_rows)"
   ],
   "metadata": {
    "collapsed": false,
    "ExecuteTime": {
     "end_time": "2024-03-05T01:19:43.952023800Z",
     "start_time": "2024-03-05T01:19:43.851196400Z"
    }
   },
   "id": "cad3137d5b1c7c93",
   "execution_count": 70
  },
  {
   "cell_type": "markdown",
   "source": [
    "5. Write a Pandas program to select the 'name' and 'score' columns from the following DataFrame.\n",
    "Sample Python dictionary data and list labels:\n",
    "exam_data = {'name': ['Anastasia', 'Dima', 'Katherine', 'James', 'Emily', 'Michael', 'Matthew', 'Laura', 'Kevin', 'Jonas'],\n",
    "'score': [12.5, 9, 16.5, np.nan, 9, 20, 14.5, np.nan, 8, 19],\n",
    "'attempts': [1, 3, 2, 3, 2, 3, 1, 1, 2, 1],\n",
    "'qualify': ['yes', 'no', 'yes', 'no', 'no', 'yes', 'yes', 'no', 'no', 'yes']}\n",
    "labels = ['a', 'b', 'c', 'd', 'e', 'f', 'g', 'h', 'i', 'j']\n",
    "\n",
    "Expected Output:\n",
    "\n",
    "Select specific columns:                                               \n",
    "\n",
    "        name  score                                                  \n",
    "\n",
    "a  Anastasia   12.5                                                   \n",
    "\n",
    "b       Dima    9.0                                                \n",
    "\n",
    "c  Katherine   16.5                                                    \n",
    "\n",
    "...                                                  \n",
    "\n",
    "h      Laura    NaN                                                   \n",
    "\n",
    "i      Kevin    8.0                                                  \n",
    "\n",
    "j      Jonas   19.0"
   ],
   "metadata": {
    "collapsed": false
   },
   "id": "599fd1e5204d5190"
  },
  {
   "cell_type": "code",
   "outputs": [
    {
     "name": "stdout",
     "output_type": "stream",
     "text": [
      "Select specific columns:\n",
      "        name  score\n",
      "a  Anastasia   12.5\n",
      "b       Dima    9.0\n",
      "c  Katherine   16.5\n",
      "d      James    NaN\n",
      "e      Emily    9.0\n",
      "f    Michael   20.0\n",
      "g    Matthew   14.5\n",
      "h      Laura    NaN\n",
      "i      Kevin    8.0\n",
      "j      Jonas   19.0\n"
     ]
    }
   ],
   "source": [
    "exam_data = {\n",
    "    'name': ['Anastasia', 'Dima', 'Katherine', 'James', 'Emily', 'Michael', 'Matthew', 'Laura', 'Kevin', 'Jonas'],\n",
    "    'score': [12.5, 9, 16.5, np.nan, 9, 20, 14.5, np.nan, 8, 19],\n",
    "    'attempts': [1, 3, 2, 3, 2, 3, 1, 1, 2, 1],\n",
    "    'qualify': ['yes', 'no', 'yes', 'no', 'no', 'yes', 'yes', 'no', 'no', 'yes']\n",
    "}\n",
    "labels = ['a', 'b', 'c', 'd', 'e', 'f', 'g', 'h', 'i', 'j']\n",
    "\n",
    "df = pd.DataFrame(exam_data, index=labels)\n",
    "\n",
    "selected_columns = df[['name', 'score']]\n",
    "\n",
    "print(\"Select specific columns:\")\n",
    "print(selected_columns)"
   ],
   "metadata": {
    "collapsed": false,
    "ExecuteTime": {
     "end_time": "2024-03-05T01:19:44.045320300Z",
     "start_time": "2024-03-05T01:19:43.962905800Z"
    }
   },
   "id": "6018becd08ed0f70",
   "execution_count": 71
  },
  {
   "cell_type": "markdown",
   "source": [
    "6. Write a Pandas program to select the specified columns and rows from a given data frame.\n",
    "Sample Python dictionary data and list labels:\n",
    "Select 'name' and 'score' columns in rows 1, 3, 5, 6 from the following data frame.\n",
    "exam_data = {'name': ['Anastasia', 'Dima', 'Katherine', 'James', 'Emily', 'Michael', 'Matthew', 'Laura', 'Kevin', 'Jonas'],\n",
    "'score': [12.5, 9, 16.5, np.nan, 9, 20, 14.5, np.nan, 8, 19],\n",
    "'attempts': [1, 3, 2, 3, 2, 3, 1, 1, 2, 1],\n",
    "'qualify': ['yes', 'no', 'yes', 'no', 'no', 'yes', 'yes', 'no', 'no', 'yes']}\n",
    "labels = ['a', 'b', 'c', 'd', 'e', 'f', 'g', 'h', 'i', 'j']\n",
    "\n",
    "Expected Output:\n",
    "\n",
    "Select specific columns and rows:\n",
    "\n",
    "   score qualify\n",
    "\n",
    "b    9.0      no\n",
    "\n",
    "d    NaN      no\n",
    "\n",
    "f   20.0     yes\n",
    "\n",
    "g   14.5     yes\n",
    "\n"
   ],
   "metadata": {
    "collapsed": false
   },
   "id": "33f23d9be0c2443c"
  },
  {
   "cell_type": "code",
   "outputs": [
    {
     "name": "stdout",
     "output_type": "stream",
     "text": [
      "Select specific columns and rows:\n",
      "   score qualify\n",
      "b    9.0      no\n",
      "d    NaN      no\n",
      "f   20.0     yes\n",
      "g   14.5     yes\n"
     ]
    }
   ],
   "source": [
    "import pandas as pd\n",
    "import numpy as np\n",
    "\n",
    "exam_data = {\n",
    "    'name': ['Anastasia', 'Dima', 'Katherine', 'James', 'Emily', 'Michael', 'Matthew', 'Laura', 'Kevin', 'Jonas'],\n",
    "    'score': [12.5, 9, 16.5, np.nan, 9, 20, 14.5, np.nan, 8, 19],\n",
    "    'attempts': [1, 3, 2, 3, 2, 3, 1, 1, 2, 1],\n",
    "    'qualify': ['yes', 'no', 'yes', 'no', 'no', 'yes', 'yes', 'no', 'no', 'yes']\n",
    "}\n",
    "labels = ['a', 'b', 'c', 'd', 'e', 'f', 'g', 'h', 'i', 'j']\n",
    "\n",
    "df = pd.DataFrame(exam_data, index=labels)\n",
    "\n",
    "selected_data = df.loc[df.index[[1, 3, 5, 6]], ['score', 'qualify']]\n",
    "\n",
    "print(\"Select specific columns and rows:\")\n",
    "print(selected_data)\n"
   ],
   "metadata": {
    "collapsed": false,
    "ExecuteTime": {
     "end_time": "2024-03-05T01:19:44.094747800Z",
     "start_time": "2024-03-05T01:19:44.037333100Z"
    }
   },
   "id": "813fbeec31914e34",
   "execution_count": 72
  },
  {
   "cell_type": "markdown",
   "source": [
    "7. Write a Pandas program to select the rows where the number of attempts in the examination is greater than 2.\n",
    "Sample Python dictionary data and list labels:\n",
    "exam_data = {'name': ['Anastasia', 'Dima', 'Katherine', 'James', 'Emily', 'Michael', 'Matthew', 'Laura', 'Kevin', 'Jonas'],\n",
    "'score': [12.5, 9, 16.5, np.nan, 9, 20, 14.5, np.nan, 8, 19],\n",
    "'attempts': [1, 3, 2, 3, 2, 3, 1, 1, 2, 1],\n",
    "'qualify': ['yes', 'no', 'yes', 'no', 'no', 'yes', 'yes', 'no', 'no', 'yes']}\n",
    "labels = ['a', 'b', 'c', 'd', 'e', 'f', 'g', 'h', 'i', 'j']\n",
    "\n",
    "Expected Output:\n",
    "\n",
    "Number of attempts in the examination is greater than 2:\n",
    "\n",
    "      name  score  attempts qualify\n",
    "\n",
    "b     Dima    9.0         3      no\n",
    "\n",
    "d    James    NaN         3      no\n",
    "\n",
    "f  Michael   20.0         3     yes"
   ],
   "metadata": {
    "collapsed": false
   },
   "id": "4b8c8255d8121ef"
  },
  {
   "cell_type": "code",
   "outputs": [
    {
     "name": "stdout",
     "output_type": "stream",
     "text": [
      "Number of attempts in the examination is greater than 2:\n",
      "\n",
      "      name  score  attempts qualify\n",
      "b     Dima    9.0         3      no\n",
      "d    James    NaN         3      no\n",
      "f  Michael   20.0         3     yes\n"
     ]
    }
   ],
   "source": [
    "exam_data = {\n",
    "    'name': ['Anastasia', 'Dima', 'Katherine', 'James', 'Emily', 'Michael', 'Matthew', 'Laura', 'Kevin', 'Jonas'],\n",
    "    'score': [12.5, 9, 16.5, np.nan, 9, 20, 14.5, np.nan, 8, 19],\n",
    "    'attempts': [1, 3, 2, 3, 2, 3, 1, 1, 2, 1],\n",
    "    'qualify': ['yes', 'no', 'yes', 'no', 'no', 'yes', 'yes', 'no', 'no', 'yes']\n",
    "}\n",
    "labels = ['a', 'b', 'c', 'd', 'e', 'f', 'g', 'h', 'i', 'j']\n",
    "\n",
    "# Create a DataFrame from the dictionary data with specified index labels\n",
    "df = pd.DataFrame(exam_data, index=labels)\n",
    "\n",
    "# Select the rows where the number of attempts is greater than 2\n",
    "selected_rows = df[df['attempts'] > 2]\n",
    "\n",
    "# Display the selected rows\n",
    "print(\"Number of attempts in the examination is greater than 2:\\n\")\n",
    "print(selected_rows)"
   ],
   "metadata": {
    "collapsed": false,
    "ExecuteTime": {
     "end_time": "2024-03-05T01:19:44.245395100Z",
     "start_time": "2024-03-05T01:19:44.115293Z"
    }
   },
   "id": "2afdb09cedebee32",
   "execution_count": 73
  },
  {
   "cell_type": "markdown",
   "source": [
    "8. Write a Pandas program to count the number of rows and columns of a DataFrame.\n",
    "Sample Python dictionary data and list labels:\n",
    "exam_data = {'name': ['Anastasia', 'Dima', 'Katherine', 'James', 'Emily', 'Michael', 'Matthew', 'Laura', 'Kevin', 'Jonas'],\n",
    "'score': [12.5, 9, 16.5, np.nan, 9, 20, 14.5, np.nan, 8, 19],\n",
    "'attempts': [1, 3, 2, 3, 2, 3, 1, 1, 2, 1],\n",
    "'qualify': ['yes', 'no', 'yes', 'no', 'no', 'yes', 'yes', 'no', 'no', 'yes']}\n",
    "labels = ['a', 'b', 'c', 'd', 'e', 'f', 'g', 'h', 'i', 'j']\n",
    "\n",
    "Expected Output:\n",
    "\n",
    "Number of Rows: 10                                                    \n",
    "\n",
    "Number of Columns: 4\n",
    "\n"
   ],
   "metadata": {
    "collapsed": false
   },
   "id": "c02399b97f1a00e7"
  },
  {
   "cell_type": "code",
   "outputs": [
    {
     "name": "stdout",
     "output_type": "stream",
     "text": [
      "Number of Rows: 10\n",
      "Number of Columns: 4\n"
     ]
    }
   ],
   "source": [
    "exam_data = {\n",
    "    'name': ['Anastasia', 'Dima', 'Katherine', 'James', 'Emily', 'Michael', 'Matthew', 'Laura', 'Kevin', 'Jonas'],\n",
    "    'score': [12.5, 9, 16.5, np.nan, 9, 20, 14.5, np.nan, 8, 19],\n",
    "    'attempts': [1, 3, 2, 3, 2, 3, 1, 1, 2, 1],\n",
    "    'qualify': ['yes', 'no', 'yes', 'no', 'no', 'yes', 'yes', 'no', 'no', 'yes']\n",
    "}\n",
    "labels = ['a', 'b', 'c', 'd', 'e', 'f', 'g', 'h', 'i', 'j']\n",
    "\n",
    "df = pd.DataFrame(exam_data, index=labels)\n",
    "\n",
    "num_rows = len(df)\n",
    "num_columns = len(df.columns)\n",
    "\n",
    "print(\"Number of Rows:\", num_rows)\n",
    "print(\"Number of Columns:\", num_columns)\n"
   ],
   "metadata": {
    "collapsed": false,
    "ExecuteTime": {
     "end_time": "2024-03-05T01:19:44.290258800Z",
     "start_time": "2024-03-05T01:19:44.150866700Z"
    }
   },
   "id": "bda9a06fa0b5a760",
   "execution_count": 74
  },
  {
   "cell_type": "markdown",
   "source": [
    "9. Write a Pandas program to select the rows where the score is missing, i.e. is NaN.\n",
    "Sample Python dictionary data and list labels:\n",
    "exam_data = {'name': ['Anastasia', 'Dima', 'Katherine', 'James', 'Emily', 'Michael', 'Matthew', 'Laura', 'Kevin', 'Jonas'],\n",
    "'score': [12.5, 9, 16.5, np.nan, 9, 20, 14.5, np.nan, 8, 19],\n",
    "'attempts': [1, 3, 2, 3, 2, 3, 1, 1, 2, 1],\n",
    "'qualify': ['yes', 'no', 'yes', 'no', 'no', 'yes', 'yes', 'no', 'no', 'yes']}\n",
    "labels = ['a', 'b', 'c', 'd', 'e', 'f', 'g', labels = ['a', 'b', 'c', 'd', 'e', 'f', 'g', 'h', 'i', 'j']\n",
    "\n",
    "Expected Output:\n",
    "\n",
    "Rows where score is missing:\n",
    "\n",
    "   attempts   name qualify  score\n",
    "\n",
    "d         3  James      no    NaN\n",
    "\n",
    "h         1  Laura      no    NaN"
   ],
   "metadata": {
    "collapsed": false
   },
   "id": "20eb74cb38583c6d"
  },
  {
   "cell_type": "code",
   "outputs": [
    {
     "name": "stdout",
     "output_type": "stream",
     "text": [
      "Rows where score is missing:\n",
      "\n",
      "    name  score  attempts qualify\n",
      "d  James    NaN         3      no\n",
      "h  Laura    NaN         1      no\n"
     ]
    }
   ],
   "source": [
    "exam_data = {\n",
    "    'name': ['Anastasia', 'Dima', 'Katherine', 'James', 'Emily', 'Michael', 'Matthew', 'Laura', 'Kevin', 'Jonas'],\n",
    "    'score': [12.5, 9, 16.5, np.nan, 9, 20, 14.5, np.nan, 8, 19],\n",
    "    'attempts': [1, 3, 2, 3, 2, 3, 1, 1, 2, 1],\n",
    "    'qualify': ['yes', 'no', 'yes', 'no', 'no', 'yes', 'yes', 'no', 'no', 'yes']\n",
    "}\n",
    "labels = ['a', 'b', 'c', 'd', 'e', 'f', 'g', 'h', 'i', 'j']\n",
    "\n",
    "df = pd.DataFrame(exam_data, index=labels)\n",
    "\n",
    "missing_score_rows = df[df['score'].isna()]\n",
    "\n",
    "print(\"Rows where score is missing:\\n\")\n",
    "print(missing_score_rows)\n"
   ],
   "metadata": {
    "collapsed": false,
    "ExecuteTime": {
     "end_time": "2024-03-05T01:19:44.425737200Z",
     "start_time": "2024-03-05T01:19:44.304544800Z"
    }
   },
   "id": "ee71a8a8116d9e96",
   "execution_count": 75
  },
  {
   "cell_type": "markdown",
   "source": [
    "10. Write a Pandas program to select the rows the score is between 15 and 20 (inclusive).\n",
    "Sample Python dictionary data and list labels:\n",
    "exam_data = {'name': ['Anastasia', 'Dima', 'Katherine', 'James', 'Emily', 'Michael', 'Matthew', 'Laura', 'Kevin', 'Jonas'],\n",
    "'score': [12.5, 9, 16.5, np.nan, 9, 20, 14.5, np.nan, 8, 19],\n",
    "'attempts': [1, 3, 2, 3, 2, 3, 1, 1, 2, 1],\n",
    "'qualify': ['yes', 'no', 'yes', 'no', 'no', 'yes', 'yes', 'no', 'no', 'yes']}\n",
    "labels = ['a', 'b', 'c', 'd', 'e', 'f', 'g', labels = ['a', 'b', 'c', 'd', 'e', 'f', 'g', 'h', 'i', 'j']\n",
    "\n"
   ],
   "metadata": {
    "collapsed": false
   },
   "id": "ce7097aae3a0ef35"
  },
  {
   "cell_type": "code",
   "outputs": [
    {
     "name": "stdout",
     "output_type": "stream",
     "text": [
      "Rows where score is between 15 and 20 (inclusive):\n",
      "\n",
      "        name  score  attempts qualify\n",
      "c  Katherine   16.5         2     yes\n",
      "f    Michael   20.0         3     yes\n",
      "j      Jonas   19.0         1     yes\n"
     ]
    }
   ],
   "source": [
    "exam_data = {\n",
    "    'name': ['Anastasia', 'Dima', 'Katherine', 'James', 'Emily', 'Michael', 'Matthew', 'Laura', 'Kevin', 'Jonas'],\n",
    "    'score': [12.5, 9, 16.5, np.nan, 9, 20, 14.5, np.nan, 8, 19],\n",
    "    'attempts': [1, 3, 2, 3, 2, 3, 1, 1, 2, 1],\n",
    "    'qualify': ['yes', 'no', 'yes', 'no', 'no', 'yes', 'yes', 'no', 'no', 'yes']\n",
    "}\n",
    "labels = ['a', 'b', 'c', 'd', 'e', 'f', 'g', 'h', 'i', 'j']\n",
    "\n",
    "df = pd.DataFrame(exam_data, index=labels)\n",
    "\n",
    "selected_rows = df[(df['score'] >= 15) & (df['score'] <= 20)]\n",
    "\n",
    "print(\"Rows where score is between 15 and 20 (inclusive):\\n\")\n",
    "print(selected_rows)\n"
   ],
   "metadata": {
    "collapsed": false,
    "ExecuteTime": {
     "end_time": "2024-03-05T01:19:44.556313300Z",
     "start_time": "2024-03-05T01:19:44.403243700Z"
    }
   },
   "id": "c77f34ccd08681a8",
   "execution_count": 76
  },
  {
   "cell_type": "markdown",
   "source": [],
   "metadata": {
    "collapsed": false
   },
   "id": "419556631ce99dd1"
  }
 ],
 "metadata": {
  "kernelspec": {
   "display_name": "Python 3",
   "language": "python",
   "name": "python3"
  },
  "language_info": {
   "codemirror_mode": {
    "name": "ipython",
    "version": 2
   },
   "file_extension": ".py",
   "mimetype": "text/x-python",
   "name": "python",
   "nbconvert_exporter": "python",
   "pygments_lexer": "ipython2",
   "version": "2.7.6"
  }
 },
 "nbformat": 4,
 "nbformat_minor": 5
}
