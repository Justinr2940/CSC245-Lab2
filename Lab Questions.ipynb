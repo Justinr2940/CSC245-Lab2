{
 "cells": [
  {
   "cell_type": "markdown",
   "source": [
    "1. Write a Pandas program to create and display a one-dimensional array-like object containing an array of data using Pandas module.\n"
   ],
   "metadata": {
    "collapsed": false
   },
   "id": "e3027ee02701bc0f"
  },
  {
   "cell_type": "markdown",
   "source": [
    "2. Write a Pandas program to convert a Panda module Series to Python list and it's type"
   ],
   "metadata": {
    "collapsed": false
   },
   "id": "cfd84a772285b62b"
  },
  {
   "cell_type": "markdown",
   "source": [
    "3. Write a Pandas program to add, subtract, multiple and divide two Pandas Series.\n",
    "Sample Series: [2, 4, 6, 8, 10], [1, 3, 5, 7, 9]"
   ],
   "metadata": {
    "collapsed": false
   },
   "id": "cc38f51111c3edb1"
  },
  {
   "cell_type": "markdown",
   "source": [
    "4. Write a Pandas program to compare the elements of the two Pandas Series.\n",
    "Sample Series: [2, 4, 6, 8, 10], [1, 3, 5, 7, 10]"
   ],
   "metadata": {
    "collapsed": false
   },
   "id": "5f25cc23e3322f4a"
  },
  {
   "cell_type": "markdown",
   "source": [
    "5. Write a Pandas program to convert a dictionary to a Pandas series. \n",
    "\n",
    "Sample Series: \n",
    "\n",
    "Original dictionary:\n",
    "\n",
    "{'a': 100, 'b': 200, 'c': 300, 'd': 400, 'e': 800}\n",
    "\n",
    "\n",
    "\n",
    "Converted series:\n",
    "\n",
    "a    100\n",
    "\n",
    "b    200\n",
    "\n",
    "c    300\n",
    "\n",
    "d    400\n",
    "\n",
    "e    800\n",
    "\n",
    "dtype: int64"
   ],
   "metadata": {
    "collapsed": false
   },
   "id": "a737c1601882b5f0"
  },
  {
   "cell_type": "markdown",
   "source": [
    "6. Write a Pandas program to convert a NumPy array to a Pandas series. \n",
    "\n",
    "Sample Series: \n",
    "\n",
    "  NumPy array:\n",
    "\n",
    "[10 20 30 40 50]\n",
    "\n",
    "Converted Pandas series:\n",
    "\n",
    "0    10\n",
    "\n",
    "1    20\n",
    "\n",
    "2    30\n",
    "\n",
    "3    40\n",
    "\n",
    "4    50\n",
    "\n",
    "dtype: int64 "
   ],
   "metadata": {
    "collapsed": false
   },
   "id": "7fbb942125644c8b"
  },
  {
   "cell_type": "markdown",
   "source": [
    "7. Write a Pandas program to change the data type of given a column or a Series. \n",
    "\n",
    "Sample Series: \n",
    "\n",
    "    Original Data Series:\n",
    "\n",
    "0       100\n",
    "\n",
    "1       200\n",
    "\n",
    "2    python\n",
    "\n",
    "3    300.12\n",
    "\n",
    "4       400\n",
    "\n",
    "dtype: object\n",
    "\n",
    "Change the said data type to numeric:\n",
    "\n",
    "0    100.00\n",
    "\n",
    "1    200.00\n",
    "\n",
    "2       NaN\n",
    "\n",
    "3    300.12\n",
    "\n",
    "4    400.00\n",
    "\n",
    "dtype: float64"
   ],
   "metadata": {
    "collapsed": false
   },
   "id": "d68e08abbb3454bc"
  },
  {
   "cell_type": "markdown",
   "source": [
    "8. Write a Pandas program to convert the first column of a DataFrame as a Series. \n",
    "\n",
    "Original DataFrame\n",
    "\n",
    "   col1  col2  col3\n",
    "\n",
    "0     1     4     7\n",
    "\n",
    "1     2     5     5\n",
    "\n",
    "2     3     6     8\n",
    "\n",
    "3     4     9    12\n",
    "\n",
    "4     7     5     1\n",
    "\n",
    "5    11     0    11\n",
    "\n",
    "\n",
    "\n",
    "1st column as a Series:\n",
    "\n",
    "0     1\n",
    "\n",
    "1     2\n",
    "\n",
    "2     3\n",
    "\n",
    "3     4\n",
    "\n",
    "4     7\n",
    "\n",
    "5    11\n",
    "\n",
    "Name: col1, dtype: int64\n",
    "\n",
    "<class 'pandas.core.series.Series'>"
   ],
   "metadata": {
    "collapsed": false
   },
   "id": "a81d0bca68c7460d"
  },
  {
   "cell_type": "markdown",
   "source": [
    "9. Write a Pandas program to convert a given Series to an array. \n",
    "\n",
    "Sample Output: \n",
    "\n",
    "Original Data Series:\n",
    "\n",
    "0       100\n",
    "\n",
    "1       200\n",
    "\n",
    "2    python\n",
    "\n",
    "3    300.12\n",
    "\n",
    "4       400\n",
    "\n",
    "dtype: object\n",
    "\n",
    "Series to an array\n",
    "\n",
    "['100' '200' 'python' '300.12' '400']\n",
    "\n",
    "<class 'numpy.ndarray'>\n",
    "\n"
   ],
   "metadata": {
    "collapsed": false
   },
   "id": "2bf4e63db9c82194"
  },
  {
   "cell_type": "markdown",
   "source": [
    "1.Write a Pandas program to create a dataframe from a dictionary and display it.\n",
    "Sample data: {'X':[78,85,96,80,86], 'Y':[84,94,89,83,86],'Z':[86,97,96,72,83]}\n",
    "\n",
    "Expected Output:\n",
    "\n",
    "    X   Y   Z                                                         \n",
    "\n",
    "0  78  84  86                                                        \n",
    "\n",
    "1  85  94  97                                                         \n",
    "\n",
    "2  96  89  96                                                      \n",
    "\n",
    "3  80  83  72                                                         \n",
    "\n",
    "4  86  86  83 "
   ],
   "metadata": {
    "collapsed": false
   },
   "id": "ce1234c14f4aa1a9"
  },
  {
   "cell_type": "markdown",
   "source": [
    "2. Write a Pandas program to create and display a DataFrame from a specified dictionary data which has the index labels.\n",
    "Sample Python dictionary data and list labels:\n",
    "exam_data = {'name': ['Anastasia', 'Dima', 'Katherine', 'James', 'Emily', 'Michael', 'Matthew', 'Laura', 'Kevin', 'Jonas'],\n",
    "'score': [12.5, 9, 16.5, np.nan, 9, 20, 14.5, np.nan, 8, 19],\n",
    "'attempts': [1, 3, 2, 3, 2, 3, 1, 1, 2, 1],\n",
    "'qualify': ['yes', 'no', 'yes', 'no', 'no', 'yes', 'yes', 'no', 'no', 'yes']}\n",
    "labels = ['a', 'b', 'c', 'd', 'e', 'f', 'g', 'h', 'i', 'j']\n",
    "\n",
    "Expected Output:\n",
    "\n",
    "   attempts       name qualify  score                              \n",
    "\n",
    "a         1  Anastasia     yes   12.5                                 \n",
    "\n",
    "b         3       Dima      no    9.0                                 \n",
    "\n",
    "....                              \n",
    "\n",
    "i         2      Kevin      no    8.0                                \n",
    "\n",
    "j         1      Jonas     yes   19.0"
   ],
   "metadata": {
    "collapsed": false
   },
   "id": "ba0fdbd84502f8e"
  },
  {
   "cell_type": "markdown",
   "source": [
    "3. Write a Pandas program to display a summary of the basic information about a specified DataFrame and its data.\n",
    "Sample Python dictionary data and list labels:\n",
    "exam_data = {'name': ['Anastasia', 'Dima', 'Katherine', 'James', 'Emily', 'Michael', 'Matthew', 'Laura', 'Kevin', 'Jonas'],\n",
    "'score': [12.5, 9, 16.5, np.nan, 9, 20, 14.5, np.nan, 8, 19],\n",
    "'attempts': [1, 3, 2, 3, 2, 3, 1, 1, 2, 1],\n",
    "'qualify': ['yes', 'no', 'yes', 'no', 'no', 'yes', 'yes', 'no', 'no', 'yes']}\n",
    "labels = ['a', 'b', 'c', 'd', 'e', 'f', 'g', 'h', 'i', 'j']\n",
    "\n",
    "Expected Output:\n",
    "\n",
    "  Summary of the basic information about this DataFrame and its data:\n",
    "\n",
    "<class 'pandas.core.frame.DataFrame'>\n",
    "\n",
    "Index: 10 entries, a to j\n",
    "\n",
    "Data columns (total 4 columns):\n",
    "\n",
    "....\n",
    "\n",
    "dtypes: float64(1), int64(1), object(2)\n",
    "\n",
    "memory usage: 400.0+ bytes\n",
    "\n",
    "None \n",
    "\n"
   ],
   "metadata": {
    "collapsed": false
   },
   "id": "d926326b07140fe4"
  },
  {
   "cell_type": "markdown",
   "source": [
    "4. Write a Pandas program to get the first 3 rows of a given DataFrame.\n",
    "Sample Python dictionary data and list labels:\n",
    "exam_data = {'name': ['Anastasia', 'Dima', 'Katherine', 'James', 'Emily', 'Michael', 'Matthew', 'Laura', 'Kevin', 'Jonas'],\n",
    "'score': [12.5, 9, 16.5, np.nan, 9, 20, 14.5, np.nan, 8, 19],\n",
    "'attempts': [1, 3, 2, 3, 2, 3, 1, 1, 2, 1],\n",
    "'qualify': ['yes', 'no', 'yes', 'no', 'no', 'yes', 'yes', 'no', 'no', 'yes']}\n",
    "labels = ['a', 'b', 'c', 'd', 'e', 'f', 'g', 'h', 'i', 'j']\n",
    "\n",
    "Expected Output:\n",
    "\n",
    "First three rows of the data frame:                                   \n",
    "\n",
    "   attempts       name qualify  score                              \n",
    "\n",
    "a         1  Anastasia     yes   12.5                                 \n",
    "\n",
    "b         3       Dima      no    9.0                                 \n",
    "\n",
    "c         2  Katherine     yes   16.5"
   ],
   "metadata": {
    "collapsed": false
   },
   "id": "f6356e75236dadfa"
  },
  {
   "cell_type": "markdown",
   "source": [
    "5. Write a Pandas program to select the 'name' and 'score' columns from the following DataFrame.\n",
    "Sample Python dictionary data and list labels:\n",
    "exam_data = {'name': ['Anastasia', 'Dima', 'Katherine', 'James', 'Emily', 'Michael', 'Matthew', 'Laura', 'Kevin', 'Jonas'],\n",
    "'score': [12.5, 9, 16.5, np.nan, 9, 20, 14.5, np.nan, 8, 19],\n",
    "'attempts': [1, 3, 2, 3, 2, 3, 1, 1, 2, 1],\n",
    "'qualify': ['yes', 'no', 'yes', 'no', 'no', 'yes', 'yes', 'no', 'no', 'yes']}\n",
    "labels = ['a', 'b', 'c', 'd', 'e', 'f', 'g', 'h', 'i', 'j']\n",
    "\n",
    "Expected Output:\n",
    "\n",
    "Select specific columns:                                               \n",
    "\n",
    "        name  score                                                  \n",
    "\n",
    "a  Anastasia   12.5                                                   \n",
    "\n",
    "b       Dima    9.0                                                \n",
    "\n",
    "c  Katherine   16.5                                                    \n",
    "\n",
    "...                                                  \n",
    "\n",
    "h      Laura    NaN                                                   \n",
    "\n",
    "i      Kevin    8.0                                                  \n",
    "\n",
    "j      Jonas   19.0"
   ],
   "metadata": {
    "collapsed": false
   },
   "id": "599fd1e5204d5190"
  },
  {
   "cell_type": "markdown",
   "source": [
    "6. Write a Pandas program to select the specified columns and rows from a given data frame.\n",
    "Sample Python dictionary data and list labels:\n",
    "Select 'name' and 'score' columns in rows 1, 3, 5, 6 from the following data frame.\n",
    "exam_data = {'name': ['Anastasia', 'Dima', 'Katherine', 'James', 'Emily', 'Michael', 'Matthew', 'Laura', 'Kevin', 'Jonas'],\n",
    "'score': [12.5, 9, 16.5, np.nan, 9, 20, 14.5, np.nan, 8, 19],\n",
    "'attempts': [1, 3, 2, 3, 2, 3, 1, 1, 2, 1],\n",
    "'qualify': ['yes', 'no', 'yes', 'no', 'no', 'yes', 'yes', 'no', 'no', 'yes']}\n",
    "labels = ['a', 'b', 'c', 'd', 'e', 'f', 'g', 'h', 'i', 'j']\n",
    "\n",
    "Expected Output:\n",
    "\n",
    "Select specific columns and rows:\n",
    "\n",
    "   score qualify\n",
    "\n",
    "b    9.0      no\n",
    "\n",
    "d    NaN      no\n",
    "\n",
    "f   20.0     yes\n",
    "\n",
    "g   14.5     yes\n",
    "\n"
   ],
   "metadata": {
    "collapsed": false
   },
   "id": "33f23d9be0c2443c"
  },
  {
   "cell_type": "markdown",
   "source": [
    "7. Write a Pandas program to select the rows where the number of attempts in the examination is greater than 2.\n",
    "Sample Python dictionary data and list labels:\n",
    "exam_data = {'name': ['Anastasia', 'Dima', 'Katherine', 'James', 'Emily', 'Michael', 'Matthew', 'Laura', 'Kevin', 'Jonas'],\n",
    "'score': [12.5, 9, 16.5, np.nan, 9, 20, 14.5, np.nan, 8, 19],\n",
    "'attempts': [1, 3, 2, 3, 2, 3, 1, 1, 2, 1],\n",
    "'qualify': ['yes', 'no', 'yes', 'no', 'no', 'yes', 'yes', 'no', 'no', 'yes']}\n",
    "labels = ['a', 'b', 'c', 'd', 'e', 'f', 'g', 'h', 'i', 'j']\n",
    "\n",
    "Expected Output:\n",
    "\n",
    "Number of attempts in the examination is greater than 2:\n",
    "\n",
    "      name  score  attempts qualify\n",
    "\n",
    "b     Dima    9.0         3      no\n",
    "\n",
    "d    James    NaN         3      no\n",
    "\n",
    "f  Michael   20.0         3     yes"
   ],
   "metadata": {
    "collapsed": false
   },
   "id": "4b8c8255d8121ef"
  },
  {
   "cell_type": "markdown",
   "source": [
    "8. Write a Pandas program to count the number of rows and columns of a DataFrame.\n",
    "Sample Python dictionary data and list labels:\n",
    "exam_data = {'name': ['Anastasia', 'Dima', 'Katherine', 'James', 'Emily', 'Michael', 'Matthew', 'Laura', 'Kevin', 'Jonas'],\n",
    "'score': [12.5, 9, 16.5, np.nan, 9, 20, 14.5, np.nan, 8, 19],\n",
    "'attempts': [1, 3, 2, 3, 2, 3, 1, 1, 2, 1],\n",
    "'qualify': ['yes', 'no', 'yes', 'no', 'no', 'yes', 'yes', 'no', 'no', 'yes']}\n",
    "labels = ['a', 'b', 'c', 'd', 'e', 'f', 'g', 'h', 'i', 'j']\n",
    "\n",
    "Expected Output:\n",
    "\n",
    "Number of Rows: 10                                                    \n",
    "\n",
    "Number of Columns: 4\n",
    "\n"
   ],
   "metadata": {
    "collapsed": false
   },
   "id": "c02399b97f1a00e7"
  },
  {
   "cell_type": "markdown",
   "source": [
    "9. Write a Pandas program to select the rows where the score is missing, i.e. is NaN.\n",
    "Sample Python dictionary data and list labels:\n",
    "exam_data = {'name': ['Anastasia', 'Dima', 'Katherine', 'James', 'Emily', 'Michael', 'Matthew', 'Laura', 'Kevin', 'Jonas'],\n",
    "'score': [12.5, 9, 16.5, np.nan, 9, 20, 14.5, np.nan, 8, 19],\n",
    "'attempts': [1, 3, 2, 3, 2, 3, 1, 1, 2, 1],\n",
    "'qualify': ['yes', 'no', 'yes', 'no', 'no', 'yes', 'yes', 'no', 'no', 'yes']}\n",
    "labels = ['a', 'b', 'c', 'd', 'e', 'f', 'g', labels = ['a', 'b', 'c', 'd', 'e', 'f', 'g', 'h', 'i', 'j']\n",
    "\n",
    "Expected Output:\n",
    "\n",
    "Rows where score is missing:\n",
    "\n",
    "   attempts   name qualify  score\n",
    "\n",
    "d         3  James      no    NaN\n",
    "\n",
    "h         1  Laura      no    NaN"
   ],
   "metadata": {
    "collapsed": false
   },
   "id": "20eb74cb38583c6d"
  },
  {
   "cell_type": "markdown",
   "source": [
    "10. Write a Pandas program to select the rows the score is between 15 and 20 (inclusive).\n",
    "Sample Python dictionary data and list labels:\n",
    "exam_data = {'name': ['Anastasia', 'Dima', 'Katherine', 'James', 'Emily', 'Michael', 'Matthew', 'Laura', 'Kevin', 'Jonas'],\n",
    "'score': [12.5, 9, 16.5, np.nan, 9, 20, 14.5, np.nan, 8, 19],\n",
    "'attempts': [1, 3, 2, 3, 2, 3, 1, 1, 2, 1],\n",
    "'qualify': ['yes', 'no', 'yes', 'no', 'no', 'yes', 'yes', 'no', 'no', 'yes']}\n",
    "labels = ['a', 'b', 'c', 'd', 'e', 'f', 'g', labels = ['a', 'b', 'c', 'd', 'e', 'f', 'g', 'h', 'i', 'j']\n",
    "\n"
   ],
   "metadata": {
    "collapsed": false
   },
   "id": "ce7097aae3a0ef35"
  },
  {
   "cell_type": "markdown",
   "source": [],
   "metadata": {
    "collapsed": false
   },
   "id": "b4d9579beccb9ba4"
  },
  {
   "cell_type": "markdown",
   "source": [],
   "metadata": {
    "collapsed": false
   },
   "id": "718fad9dd889c50"
  },
  {
   "cell_type": "markdown",
   "source": [],
   "metadata": {
    "collapsed": false
   },
   "id": "419556631ce99dd1"
  }
 ],
 "metadata": {
  "kernelspec": {
   "display_name": "Python 3",
   "language": "python",
   "name": "python3"
  },
  "language_info": {
   "codemirror_mode": {
    "name": "ipython",
    "version": 2
   },
   "file_extension": ".py",
   "mimetype": "text/x-python",
   "name": "python",
   "nbconvert_exporter": "python",
   "pygments_lexer": "ipython2",
   "version": "2.7.6"
  }
 },
 "nbformat": 4,
 "nbformat_minor": 5
}
